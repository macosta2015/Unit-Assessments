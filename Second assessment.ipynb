{
 "cells": [
  {
   "cell_type": "code",
   "execution_count": 4,
   "id": "e846374a",
   "metadata": {},
   "outputs": [],
   "source": [
    "#Importing dependencies\n",
    "import pandas as pd\n",
    "import os"
   ]
  },
  {
   "cell_type": "code",
   "execution_count": 8,
   "id": "fad772ae",
   "metadata": {},
   "outputs": [],
   "source": [
    "#Files to load\n",
    "donors_df = os.path.join(\"resources\",\"donors2008.csv\")"
   ]
  },
  {
   "cell_type": "code",
   "execution_count": 12,
   "id": "15de27f9",
   "metadata": {},
   "outputs": [
    {
     "data": {
      "text/plain": [
       "'resources/donors2008.csv'"
      ]
     },
     "execution_count": 12,
     "metadata": {},
     "output_type": "execute_result"
    }
   ],
   "source": [
    "#Print the data frame\n",
    "donors_data_DF"
   ]
  }
 ],
 "metadata": {
  "kernelspec": {
   "display_name": "Python 3",
   "language": "python",
   "name": "python3"
  },
  "language_info": {
   "codemirror_mode": {
    "name": "ipython",
    "version": 3
   },
   "file_extension": ".py",
   "mimetype": "text/x-python",
   "name": "python",
   "nbconvert_exporter": "python",
   "pygments_lexer": "ipython3",
   "version": "3.9.5"
  }
 },
 "nbformat": 4,
 "nbformat_minor": 5
}
